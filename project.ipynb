{
 "cells": [
  {
   "cell_type": "code",
   "execution_count": 1,
   "metadata": {},
   "outputs": [],
   "source": [
    "import pandas as pd"
   ]
  },
  {
   "cell_type": "code",
   "execution_count": 2,
   "metadata": {},
   "outputs": [],
   "source": [
    "df = pd.read_csv(\"nov21-cps.csv\")\n",
    "\n",
    "# Choosing questions that have the keyword 'privacy' in them and have binary responses\n",
    "privacy_colns = [\"hepspre1\", \"hepspre2\", \"hepspre3\", \"hepspre4\", \"hepspre5\", \"hepscon1\", \"hepscon2\", \"hepscon3\", \"hepscon4\", \"hepscon5\", \"hepscon6\", \"hepscon8\", \"henohm7\"]#, \"heprinoh\"]\n",
    "\n",
    "# Original: -1 = blank, 1 = yes, 2 = no\n",
    "# Adjusted: -1 = no, 0 = blank, 1 = yes\n",
    "df = df[privacy_colns]\n",
    "dict_values = {-1:0, 2:-1}\n",
    "df = df.replace(dict_values)"
   ]
  },
  {
   "cell_type": "code",
   "execution_count": 3,
   "metadata": {},
   "outputs": [],
   "source": [
    "var_set = set()\n",
    "\n",
    "# Gets the base question (e.g. hepspre is a base question of hepspre1) string by removing digits of unique column names and append them to set\n",
    "for col in privacy_colns:\n",
    "    non_digit_q = ''.join(c for c in col if not c.isdigit())\n",
    "    var_set.add(non_digit_q)\n",
    "\n",
    "# Calculates the sums for each row based on the base question and adds the result as a column to the dataframe\n",
    "for var in var_set:\n",
    "    cols_to_sum = [col for col in df.columns if var in col]\n",
    "    df[f'{var}_sum'] = df.loc[:, cols_to_sum].sum(axis=1)\n",
    "\n",
    "df\n"
   ]
  },
  {
   "cell_type": "code",
   "execution_count": 4,
   "metadata": {},
   "outputs": [
    {
     "data": {
      "text/plain": [
       "'henohm_sum average: -0.11544651619234543'"
      ]
     },
     "metadata": {},
     "output_type": "display_data"
    },
    {
     "data": {
      "text/plain": [
       "'hepscon_sum average: -2.3520392541707555'"
      ]
     },
     "metadata": {},
     "output_type": "display_data"
    },
    {
     "data": {
      "text/plain": [
       "'hepspre_sum average: -2.4848125613346417'"
      ]
     },
     "metadata": {},
     "output_type": "display_data"
    }
   ],
   "source": [
    "# Calulates the averages for each base question sum\n",
    "cols_to_avg = [col for col in df.columns if \"sum\" in col]\n",
    "for col in cols_to_avg:\n",
    "    avg = sum(df[col]) / len(df[col])\n",
    "    display(col + \" average: \" + str(avg))"
   ]
  }
 ],
 "metadata": {
  "kernelspec": {
   "display_name": "Python 3",
   "language": "python",
   "name": "python3"
  },
  "language_info": {
   "codemirror_mode": {
    "name": "ipython",
    "version": 3
   },
   "file_extension": ".py",
   "mimetype": "text/x-python",
   "name": "python",
   "nbconvert_exporter": "python",
   "pygments_lexer": "ipython3",
   "version": "3.10.4"
  },
  "orig_nbformat": 4,
  "vscode": {
   "interpreter": {
    "hash": "26de051ba29f2982a8de78e945f0abaf191376122a1563185a90213a26c5da77"
   }
  }
 },
 "nbformat": 4,
 "nbformat_minor": 2
}
