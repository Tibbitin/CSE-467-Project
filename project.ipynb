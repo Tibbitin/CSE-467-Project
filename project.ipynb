{
 "cells": [
  {
   "cell_type": "code",
   "execution_count": 1,
   "metadata": {},
   "outputs": [],
   "source": [
    "import pandas as pd\n",
    "import numpy as np\n",
    "import matplotlib.pyplot as plt"
   ]
  },
  {
   "cell_type": "code",
   "execution_count": 2,
   "metadata": {},
   "outputs": [],
   "source": [
    "df = pd.read_csv(\"nov21-cps.csv\")\n",
    "\n",
    "# Choosing questions that have the keyword 'privacy' in them and have binary responses\n",
    "privacy_colns = [\"prtage\", \"hepspre1\", \"hepspre2\", \"hepspre3\", \"hepspre4\", \"hepspre5\", \"hepscon1\", \"hepscon2\", \"hepscon3\", \"hepscon4\", \"hepscon5\", \"hepscon6\", \"hepscon8\", \"henohm7\"]#, \"heprinoh\"]\n",
    "\n",
    "# Original: -1 = blank, 1 = yes, 2 = no\n",
    "# Adjusted: -1 = no, 0 = blank, 1 = yes\n",
    "df = df[privacy_colns]\n",
    "dict_values = {-1:0, 2:-1}\n",
    "df = df.replace(dict_values)"
   ]
  },
  {
   "cell_type": "code",
   "execution_count": 3,
   "metadata": {},
   "outputs": [
    {
     "data": {
      "text/html": [
       "<div>\n",
       "<style scoped>\n",
       "    .dataframe tbody tr th:only-of-type {\n",
       "        vertical-align: middle;\n",
       "    }\n",
       "\n",
       "    .dataframe tbody tr th {\n",
       "        vertical-align: top;\n",
       "    }\n",
       "\n",
       "    .dataframe thead th {\n",
       "        text-align: right;\n",
       "    }\n",
       "</style>\n",
       "<table border=\"1\" class=\"dataframe\">\n",
       "  <thead>\n",
       "    <tr style=\"text-align: right;\">\n",
       "      <th></th>\n",
       "      <th>prtage</th>\n",
       "      <th>hepspre1</th>\n",
       "      <th>hepspre2</th>\n",
       "      <th>hepspre3</th>\n",
       "      <th>hepspre4</th>\n",
       "      <th>hepspre5</th>\n",
       "      <th>hepscon1</th>\n",
       "      <th>hepscon2</th>\n",
       "      <th>hepscon3</th>\n",
       "      <th>hepscon4</th>\n",
       "      <th>hepscon5</th>\n",
       "      <th>hepscon6</th>\n",
       "      <th>hepscon8</th>\n",
       "      <th>henohm7</th>\n",
       "      <th>hepscon_sum</th>\n",
       "      <th>hepspre_sum</th>\n",
       "      <th>henohm_sum</th>\n",
       "      <th>prtage_sum</th>\n",
       "    </tr>\n",
       "  </thead>\n",
       "  <tbody>\n",
       "    <tr>\n",
       "      <th>0</th>\n",
       "      <td>24</td>\n",
       "      <td>-1</td>\n",
       "      <td>-1</td>\n",
       "      <td>-1</td>\n",
       "      <td>-1</td>\n",
       "      <td>-1</td>\n",
       "      <td>-1</td>\n",
       "      <td>-1</td>\n",
       "      <td>-1</td>\n",
       "      <td>-1</td>\n",
       "      <td>-1</td>\n",
       "      <td>-1</td>\n",
       "      <td>-1</td>\n",
       "      <td>0</td>\n",
       "      <td>-7</td>\n",
       "      <td>-5</td>\n",
       "      <td>0</td>\n",
       "      <td>24</td>\n",
       "    </tr>\n",
       "    <tr>\n",
       "      <th>1</th>\n",
       "      <td>28</td>\n",
       "      <td>-1</td>\n",
       "      <td>-1</td>\n",
       "      <td>-1</td>\n",
       "      <td>-1</td>\n",
       "      <td>-1</td>\n",
       "      <td>-1</td>\n",
       "      <td>-1</td>\n",
       "      <td>-1</td>\n",
       "      <td>-1</td>\n",
       "      <td>-1</td>\n",
       "      <td>-1</td>\n",
       "      <td>-1</td>\n",
       "      <td>0</td>\n",
       "      <td>-7</td>\n",
       "      <td>-5</td>\n",
       "      <td>0</td>\n",
       "      <td>28</td>\n",
       "    </tr>\n",
       "    <tr>\n",
       "      <th>2</th>\n",
       "      <td>7</td>\n",
       "      <td>-1</td>\n",
       "      <td>-1</td>\n",
       "      <td>-1</td>\n",
       "      <td>-1</td>\n",
       "      <td>-1</td>\n",
       "      <td>-1</td>\n",
       "      <td>-1</td>\n",
       "      <td>-1</td>\n",
       "      <td>-1</td>\n",
       "      <td>-1</td>\n",
       "      <td>-1</td>\n",
       "      <td>-1</td>\n",
       "      <td>0</td>\n",
       "      <td>-7</td>\n",
       "      <td>-5</td>\n",
       "      <td>0</td>\n",
       "      <td>7</td>\n",
       "    </tr>\n",
       "    <tr>\n",
       "      <th>3</th>\n",
       "      <td>3</td>\n",
       "      <td>-1</td>\n",
       "      <td>-1</td>\n",
       "      <td>-1</td>\n",
       "      <td>-1</td>\n",
       "      <td>-1</td>\n",
       "      <td>-1</td>\n",
       "      <td>-1</td>\n",
       "      <td>-1</td>\n",
       "      <td>-1</td>\n",
       "      <td>-1</td>\n",
       "      <td>-1</td>\n",
       "      <td>-1</td>\n",
       "      <td>0</td>\n",
       "      <td>-7</td>\n",
       "      <td>-5</td>\n",
       "      <td>0</td>\n",
       "      <td>3</td>\n",
       "    </tr>\n",
       "    <tr>\n",
       "      <th>4</th>\n",
       "      <td>1</td>\n",
       "      <td>0</td>\n",
       "      <td>0</td>\n",
       "      <td>0</td>\n",
       "      <td>0</td>\n",
       "      <td>0</td>\n",
       "      <td>0</td>\n",
       "      <td>0</td>\n",
       "      <td>0</td>\n",
       "      <td>0</td>\n",
       "      <td>0</td>\n",
       "      <td>0</td>\n",
       "      <td>0</td>\n",
       "      <td>0</td>\n",
       "      <td>0</td>\n",
       "      <td>0</td>\n",
       "      <td>0</td>\n",
       "      <td>1</td>\n",
       "    </tr>\n",
       "    <tr>\n",
       "      <th>...</th>\n",
       "      <td>...</td>\n",
       "      <td>...</td>\n",
       "      <td>...</td>\n",
       "      <td>...</td>\n",
       "      <td>...</td>\n",
       "      <td>...</td>\n",
       "      <td>...</td>\n",
       "      <td>...</td>\n",
       "      <td>...</td>\n",
       "      <td>...</td>\n",
       "      <td>...</td>\n",
       "      <td>...</td>\n",
       "      <td>...</td>\n",
       "      <td>...</td>\n",
       "      <td>...</td>\n",
       "      <td>...</td>\n",
       "      <td>...</td>\n",
       "      <td>...</td>\n",
       "    </tr>\n",
       "    <tr>\n",
       "      <th>127370</th>\n",
       "      <td>65</td>\n",
       "      <td>1</td>\n",
       "      <td>-1</td>\n",
       "      <td>-1</td>\n",
       "      <td>-1</td>\n",
       "      <td>-1</td>\n",
       "      <td>1</td>\n",
       "      <td>-1</td>\n",
       "      <td>-1</td>\n",
       "      <td>-1</td>\n",
       "      <td>-1</td>\n",
       "      <td>-1</td>\n",
       "      <td>-1</td>\n",
       "      <td>0</td>\n",
       "      <td>-5</td>\n",
       "      <td>-3</td>\n",
       "      <td>0</td>\n",
       "      <td>65</td>\n",
       "    </tr>\n",
       "    <tr>\n",
       "      <th>127371</th>\n",
       "      <td>0</td>\n",
       "      <td>0</td>\n",
       "      <td>0</td>\n",
       "      <td>0</td>\n",
       "      <td>0</td>\n",
       "      <td>0</td>\n",
       "      <td>0</td>\n",
       "      <td>0</td>\n",
       "      <td>0</td>\n",
       "      <td>0</td>\n",
       "      <td>0</td>\n",
       "      <td>0</td>\n",
       "      <td>0</td>\n",
       "      <td>0</td>\n",
       "      <td>0</td>\n",
       "      <td>0</td>\n",
       "      <td>0</td>\n",
       "      <td>0</td>\n",
       "    </tr>\n",
       "    <tr>\n",
       "      <th>127372</th>\n",
       "      <td>61</td>\n",
       "      <td>0</td>\n",
       "      <td>0</td>\n",
       "      <td>0</td>\n",
       "      <td>0</td>\n",
       "      <td>0</td>\n",
       "      <td>0</td>\n",
       "      <td>0</td>\n",
       "      <td>0</td>\n",
       "      <td>0</td>\n",
       "      <td>0</td>\n",
       "      <td>0</td>\n",
       "      <td>0</td>\n",
       "      <td>-1</td>\n",
       "      <td>0</td>\n",
       "      <td>0</td>\n",
       "      <td>-1</td>\n",
       "      <td>61</td>\n",
       "    </tr>\n",
       "    <tr>\n",
       "      <th>127373</th>\n",
       "      <td>58</td>\n",
       "      <td>0</td>\n",
       "      <td>0</td>\n",
       "      <td>0</td>\n",
       "      <td>0</td>\n",
       "      <td>0</td>\n",
       "      <td>0</td>\n",
       "      <td>0</td>\n",
       "      <td>0</td>\n",
       "      <td>0</td>\n",
       "      <td>0</td>\n",
       "      <td>0</td>\n",
       "      <td>0</td>\n",
       "      <td>-1</td>\n",
       "      <td>0</td>\n",
       "      <td>0</td>\n",
       "      <td>-1</td>\n",
       "      <td>58</td>\n",
       "    </tr>\n",
       "    <tr>\n",
       "      <th>127374</th>\n",
       "      <td>41</td>\n",
       "      <td>0</td>\n",
       "      <td>0</td>\n",
       "      <td>0</td>\n",
       "      <td>0</td>\n",
       "      <td>0</td>\n",
       "      <td>0</td>\n",
       "      <td>0</td>\n",
       "      <td>0</td>\n",
       "      <td>0</td>\n",
       "      <td>0</td>\n",
       "      <td>0</td>\n",
       "      <td>0</td>\n",
       "      <td>-1</td>\n",
       "      <td>0</td>\n",
       "      <td>0</td>\n",
       "      <td>-1</td>\n",
       "      <td>41</td>\n",
       "    </tr>\n",
       "  </tbody>\n",
       "</table>\n",
       "<p>127375 rows × 18 columns</p>\n",
       "</div>"
      ],
      "text/plain": [
       "        prtage  hepspre1  hepspre2  hepspre3  hepspre4  hepspre5  hepscon1  \\\n",
       "0           24        -1        -1        -1        -1        -1        -1   \n",
       "1           28        -1        -1        -1        -1        -1        -1   \n",
       "2            7        -1        -1        -1        -1        -1        -1   \n",
       "3            3        -1        -1        -1        -1        -1        -1   \n",
       "4            1         0         0         0         0         0         0   \n",
       "...        ...       ...       ...       ...       ...       ...       ...   \n",
       "127370      65         1        -1        -1        -1        -1         1   \n",
       "127371       0         0         0         0         0         0         0   \n",
       "127372      61         0         0         0         0         0         0   \n",
       "127373      58         0         0         0         0         0         0   \n",
       "127374      41         0         0         0         0         0         0   \n",
       "\n",
       "        hepscon2  hepscon3  hepscon4  hepscon5  hepscon6  hepscon8  henohm7  \\\n",
       "0             -1        -1        -1        -1        -1        -1        0   \n",
       "1             -1        -1        -1        -1        -1        -1        0   \n",
       "2             -1        -1        -1        -1        -1        -1        0   \n",
       "3             -1        -1        -1        -1        -1        -1        0   \n",
       "4              0         0         0         0         0         0        0   \n",
       "...          ...       ...       ...       ...       ...       ...      ...   \n",
       "127370        -1        -1        -1        -1        -1        -1        0   \n",
       "127371         0         0         0         0         0         0        0   \n",
       "127372         0         0         0         0         0         0       -1   \n",
       "127373         0         0         0         0         0         0       -1   \n",
       "127374         0         0         0         0         0         0       -1   \n",
       "\n",
       "        hepscon_sum  hepspre_sum  henohm_sum  prtage_sum  \n",
       "0                -7           -5           0          24  \n",
       "1                -7           -5           0          28  \n",
       "2                -7           -5           0           7  \n",
       "3                -7           -5           0           3  \n",
       "4                 0            0           0           1  \n",
       "...             ...          ...         ...         ...  \n",
       "127370           -5           -3           0          65  \n",
       "127371            0            0           0           0  \n",
       "127372            0            0          -1          61  \n",
       "127373            0            0          -1          58  \n",
       "127374            0            0          -1          41  \n",
       "\n",
       "[127375 rows x 18 columns]"
      ]
     },
     "execution_count": 3,
     "metadata": {},
     "output_type": "execute_result"
    }
   ],
   "source": [
    "# Var set is the base questions for all subquestions\n",
    "var_set = set()\n",
    "\n",
    "# Gets the base question (e.g. hepspre is a base question of hepspre1) string by removing digits of unique column names and append them to set\n",
    "for col in privacy_colns:\n",
    "    non_digit_q = ''.join(c for c in col if not c.isdigit())\n",
    "    var_set.add(non_digit_q)\n",
    "\n",
    "# Calculates the sums for each row based on the base question and adds the result as a column to the dataframe\n",
    "for var in var_set:\n",
    "    cols_to_sum = [col for col in df.columns if var in col]\n",
    "    df[f'{var}_sum'] = df.loc[:, cols_to_sum].sum(axis=1)\n",
    "\n",
    "df\n"
   ]
  },
  {
   "cell_type": "code",
   "execution_count": 4,
   "metadata": {},
   "outputs": [
    {
     "data": {
      "text/plain": [
       "'hepscon_sum average: -2.3520392541707555'"
      ]
     },
     "metadata": {},
     "output_type": "display_data"
    },
    {
     "data": {
      "text/plain": [
       "'hepspre_sum average: -2.4848125613346417'"
      ]
     },
     "metadata": {},
     "output_type": "display_data"
    },
    {
     "data": {
      "text/plain": [
       "'henohm_sum average: -0.11544651619234543'"
      ]
     },
     "metadata": {},
     "output_type": "display_data"
    },
    {
     "data": {
      "text/plain": [
       "'prtage_sum average: 33.09064573110893'"
      ]
     },
     "metadata": {},
     "output_type": "display_data"
    }
   ],
   "source": [
    "# Calculates the averages for each base question sum\n",
    "cols_to_avg = [col for col in df.columns if \"sum\" in col]\n",
    "for col in cols_to_avg:\n",
    "    avg = sum(df[col]) / len(df[col])\n",
    "    display(col + \" average: \" + str(avg))"
   ]
  },
  {
   "cell_type": "code",
   "execution_count": 5,
   "metadata": {},
   "outputs": [
    {
     "data": {
      "text/html": [
       "<div>\n",
       "<style scoped>\n",
       "    .dataframe tbody tr th:only-of-type {\n",
       "        vertical-align: middle;\n",
       "    }\n",
       "\n",
       "    .dataframe tbody tr th {\n",
       "        vertical-align: top;\n",
       "    }\n",
       "\n",
       "    .dataframe thead th {\n",
       "        text-align: right;\n",
       "    }\n",
       "</style>\n",
       "<table border=\"1\" class=\"dataframe\">\n",
       "  <thead>\n",
       "    <tr style=\"text-align: right;\">\n",
       "      <th></th>\n",
       "      <th>prtage</th>\n",
       "      <th>hepspre1</th>\n",
       "      <th>hepspre2</th>\n",
       "      <th>hepspre3</th>\n",
       "      <th>hepspre4</th>\n",
       "      <th>hepspre5</th>\n",
       "      <th>hepscon1</th>\n",
       "      <th>hepscon2</th>\n",
       "      <th>hepscon3</th>\n",
       "      <th>hepscon4</th>\n",
       "      <th>hepscon5</th>\n",
       "      <th>hepscon6</th>\n",
       "      <th>hepscon8</th>\n",
       "      <th>henohm7</th>\n",
       "      <th>hepscon_sum</th>\n",
       "      <th>hepspre_sum</th>\n",
       "      <th>henohm_sum</th>\n",
       "      <th>prtage_sum</th>\n",
       "    </tr>\n",
       "  </thead>\n",
       "  <tbody>\n",
       "    <tr>\n",
       "      <th>0</th>\n",
       "      <td>24</td>\n",
       "      <td>-1</td>\n",
       "      <td>-1</td>\n",
       "      <td>-1</td>\n",
       "      <td>-1</td>\n",
       "      <td>-1</td>\n",
       "      <td>-1</td>\n",
       "      <td>-1</td>\n",
       "      <td>-1</td>\n",
       "      <td>-1</td>\n",
       "      <td>-1</td>\n",
       "      <td>-1</td>\n",
       "      <td>-1</td>\n",
       "      <td>0</td>\n",
       "      <td>-7</td>\n",
       "      <td>-5</td>\n",
       "      <td>0</td>\n",
       "      <td>24</td>\n",
       "    </tr>\n",
       "    <tr>\n",
       "      <th>1</th>\n",
       "      <td>28</td>\n",
       "      <td>-1</td>\n",
       "      <td>-1</td>\n",
       "      <td>-1</td>\n",
       "      <td>-1</td>\n",
       "      <td>-1</td>\n",
       "      <td>-1</td>\n",
       "      <td>-1</td>\n",
       "      <td>-1</td>\n",
       "      <td>-1</td>\n",
       "      <td>-1</td>\n",
       "      <td>-1</td>\n",
       "      <td>-1</td>\n",
       "      <td>0</td>\n",
       "      <td>-7</td>\n",
       "      <td>-5</td>\n",
       "      <td>0</td>\n",
       "      <td>28</td>\n",
       "    </tr>\n",
       "    <tr>\n",
       "      <th>2</th>\n",
       "      <td>7</td>\n",
       "      <td>-1</td>\n",
       "      <td>-1</td>\n",
       "      <td>-1</td>\n",
       "      <td>-1</td>\n",
       "      <td>-1</td>\n",
       "      <td>-1</td>\n",
       "      <td>-1</td>\n",
       "      <td>-1</td>\n",
       "      <td>-1</td>\n",
       "      <td>-1</td>\n",
       "      <td>-1</td>\n",
       "      <td>-1</td>\n",
       "      <td>0</td>\n",
       "      <td>-7</td>\n",
       "      <td>-5</td>\n",
       "      <td>0</td>\n",
       "      <td>7</td>\n",
       "    </tr>\n",
       "    <tr>\n",
       "      <th>5</th>\n",
       "      <td>45</td>\n",
       "      <td>-1</td>\n",
       "      <td>-1</td>\n",
       "      <td>-1</td>\n",
       "      <td>-1</td>\n",
       "      <td>-1</td>\n",
       "      <td>1</td>\n",
       "      <td>1</td>\n",
       "      <td>1</td>\n",
       "      <td>1</td>\n",
       "      <td>-1</td>\n",
       "      <td>-1</td>\n",
       "      <td>-1</td>\n",
       "      <td>0</td>\n",
       "      <td>1</td>\n",
       "      <td>-5</td>\n",
       "      <td>0</td>\n",
       "      <td>45</td>\n",
       "    </tr>\n",
       "    <tr>\n",
       "      <th>6</th>\n",
       "      <td>30</td>\n",
       "      <td>1</td>\n",
       "      <td>1</td>\n",
       "      <td>-1</td>\n",
       "      <td>-1</td>\n",
       "      <td>-1</td>\n",
       "      <td>1</td>\n",
       "      <td>1</td>\n",
       "      <td>-1</td>\n",
       "      <td>-1</td>\n",
       "      <td>-1</td>\n",
       "      <td>-1</td>\n",
       "      <td>-1</td>\n",
       "      <td>0</td>\n",
       "      <td>-3</td>\n",
       "      <td>-1</td>\n",
       "      <td>0</td>\n",
       "      <td>30</td>\n",
       "    </tr>\n",
       "    <tr>\n",
       "      <th>...</th>\n",
       "      <td>...</td>\n",
       "      <td>...</td>\n",
       "      <td>...</td>\n",
       "      <td>...</td>\n",
       "      <td>...</td>\n",
       "      <td>...</td>\n",
       "      <td>...</td>\n",
       "      <td>...</td>\n",
       "      <td>...</td>\n",
       "      <td>...</td>\n",
       "      <td>...</td>\n",
       "      <td>...</td>\n",
       "      <td>...</td>\n",
       "      <td>...</td>\n",
       "      <td>...</td>\n",
       "      <td>...</td>\n",
       "      <td>...</td>\n",
       "      <td>...</td>\n",
       "    </tr>\n",
       "    <tr>\n",
       "      <th>127369</th>\n",
       "      <td>73</td>\n",
       "      <td>1</td>\n",
       "      <td>-1</td>\n",
       "      <td>-1</td>\n",
       "      <td>-1</td>\n",
       "      <td>-1</td>\n",
       "      <td>1</td>\n",
       "      <td>-1</td>\n",
       "      <td>-1</td>\n",
       "      <td>-1</td>\n",
       "      <td>-1</td>\n",
       "      <td>-1</td>\n",
       "      <td>-1</td>\n",
       "      <td>0</td>\n",
       "      <td>-5</td>\n",
       "      <td>-3</td>\n",
       "      <td>0</td>\n",
       "      <td>73</td>\n",
       "    </tr>\n",
       "    <tr>\n",
       "      <th>127370</th>\n",
       "      <td>65</td>\n",
       "      <td>1</td>\n",
       "      <td>-1</td>\n",
       "      <td>-1</td>\n",
       "      <td>-1</td>\n",
       "      <td>-1</td>\n",
       "      <td>1</td>\n",
       "      <td>-1</td>\n",
       "      <td>-1</td>\n",
       "      <td>-1</td>\n",
       "      <td>-1</td>\n",
       "      <td>-1</td>\n",
       "      <td>-1</td>\n",
       "      <td>0</td>\n",
       "      <td>-5</td>\n",
       "      <td>-3</td>\n",
       "      <td>0</td>\n",
       "      <td>65</td>\n",
       "    </tr>\n",
       "    <tr>\n",
       "      <th>127372</th>\n",
       "      <td>61</td>\n",
       "      <td>0</td>\n",
       "      <td>0</td>\n",
       "      <td>0</td>\n",
       "      <td>0</td>\n",
       "      <td>0</td>\n",
       "      <td>0</td>\n",
       "      <td>0</td>\n",
       "      <td>0</td>\n",
       "      <td>0</td>\n",
       "      <td>0</td>\n",
       "      <td>0</td>\n",
       "      <td>0</td>\n",
       "      <td>-1</td>\n",
       "      <td>0</td>\n",
       "      <td>0</td>\n",
       "      <td>-1</td>\n",
       "      <td>61</td>\n",
       "    </tr>\n",
       "    <tr>\n",
       "      <th>127373</th>\n",
       "      <td>58</td>\n",
       "      <td>0</td>\n",
       "      <td>0</td>\n",
       "      <td>0</td>\n",
       "      <td>0</td>\n",
       "      <td>0</td>\n",
       "      <td>0</td>\n",
       "      <td>0</td>\n",
       "      <td>0</td>\n",
       "      <td>0</td>\n",
       "      <td>0</td>\n",
       "      <td>0</td>\n",
       "      <td>0</td>\n",
       "      <td>-1</td>\n",
       "      <td>0</td>\n",
       "      <td>0</td>\n",
       "      <td>-1</td>\n",
       "      <td>58</td>\n",
       "    </tr>\n",
       "    <tr>\n",
       "      <th>127374</th>\n",
       "      <td>41</td>\n",
       "      <td>0</td>\n",
       "      <td>0</td>\n",
       "      <td>0</td>\n",
       "      <td>0</td>\n",
       "      <td>0</td>\n",
       "      <td>0</td>\n",
       "      <td>0</td>\n",
       "      <td>0</td>\n",
       "      <td>0</td>\n",
       "      <td>0</td>\n",
       "      <td>0</td>\n",
       "      <td>0</td>\n",
       "      <td>-1</td>\n",
       "      <td>0</td>\n",
       "      <td>0</td>\n",
       "      <td>-1</td>\n",
       "      <td>41</td>\n",
       "    </tr>\n",
       "  </tbody>\n",
       "</table>\n",
       "<p>95939 rows × 18 columns</p>\n",
       "</div>"
      ],
      "text/plain": [
       "        prtage  hepspre1  hepspre2  hepspre3  hepspre4  hepspre5  hepscon1  \\\n",
       "0           24        -1        -1        -1        -1        -1        -1   \n",
       "1           28        -1        -1        -1        -1        -1        -1   \n",
       "2            7        -1        -1        -1        -1        -1        -1   \n",
       "5           45        -1        -1        -1        -1        -1         1   \n",
       "6           30         1         1        -1        -1        -1         1   \n",
       "...        ...       ...       ...       ...       ...       ...       ...   \n",
       "127369      73         1        -1        -1        -1        -1         1   \n",
       "127370      65         1        -1        -1        -1        -1         1   \n",
       "127372      61         0         0         0         0         0         0   \n",
       "127373      58         0         0         0         0         0         0   \n",
       "127374      41         0         0         0         0         0         0   \n",
       "\n",
       "        hepscon2  hepscon3  hepscon4  hepscon5  hepscon6  hepscon8  henohm7  \\\n",
       "0             -1        -1        -1        -1        -1        -1        0   \n",
       "1             -1        -1        -1        -1        -1        -1        0   \n",
       "2             -1        -1        -1        -1        -1        -1        0   \n",
       "5              1         1         1        -1        -1        -1        0   \n",
       "6              1        -1        -1        -1        -1        -1        0   \n",
       "...          ...       ...       ...       ...       ...       ...      ...   \n",
       "127369        -1        -1        -1        -1        -1        -1        0   \n",
       "127370        -1        -1        -1        -1        -1        -1        0   \n",
       "127372         0         0         0         0         0         0       -1   \n",
       "127373         0         0         0         0         0         0       -1   \n",
       "127374         0         0         0         0         0         0       -1   \n",
       "\n",
       "        hepscon_sum  hepspre_sum  henohm_sum  prtage_sum  \n",
       "0                -7           -5           0          24  \n",
       "1                -7           -5           0          28  \n",
       "2                -7           -5           0           7  \n",
       "5                 1           -5           0          45  \n",
       "6                -3           -1           0          30  \n",
       "...             ...          ...         ...         ...  \n",
       "127369           -5           -3           0          73  \n",
       "127370           -5           -3           0          65  \n",
       "127372            0            0          -1          61  \n",
       "127373            0            0          -1          58  \n",
       "127374            0            0          -1          41  \n",
       "\n",
       "[95939 rows x 18 columns]"
      ]
     },
     "execution_count": 5,
     "metadata": {},
     "output_type": "execute_result"
    }
   ],
   "source": [
    "df = df[df['prtage'] > 5]\n",
    "df"
   ]
  },
  {
   "cell_type": "code",
   "execution_count": 6,
   "metadata": {},
   "outputs": [],
   "source": [
    "df_6_to_17 = df[df['prtage'] < 18]\n",
    "df_18_to_24 = df.loc[(df['prtage'] > 17) & (df['prtage'] < 24)]\n",
    "df_25_to_34 = df.loc[(df['prtage'] > 18) & (df['prtage'] < 35)]\n",
    "df_35_to_44 = df.loc[(df['prtage'] > 34) & (df['prtage'] < 45)]\n",
    "df_45_to_54 = df.loc[(df['prtage'] > 44) & (df['prtage'] < 55)]\n",
    "df_55_to_64 = df.loc[(df['prtage'] > 55) & (df['prtage'] < 65)]\n",
    "df_65 = df[df['prtage'] > 64]"
   ]
  },
  {
   "cell_type": "code",
   "execution_count": 7,
   "metadata": {},
   "outputs": [],
   "source": [
    "df_6_to_17 = df[df['prtage'] < 18]\n",
    "df_18_to_44 = df.loc[(df['prtage'] > 17) & (df['prtage'] < 45)]\n",
    "df_45_to_64 = df.loc[(df['prtage'] > 44) & (df['prtage'] < 65)]\n",
    "df_65 = df[df['prtage'] > 64]\n",
    "\n",
    "#<18\n",
    "#18-44\n",
    "#45-64\n",
    "#>64"
   ]
  },
  {
   "cell_type": "code",
   "execution_count": 8,
   "metadata": {},
   "outputs": [],
   "source": [
    "def computeSum(df):\n",
    "    # Choosing questions that have the keyword 'privacy' in them and have binary responses\n",
    "    privacy_colns = [\"prtage\", \"hepspre1\", \"hepspre2\", \"hepspre3\", \"hepspre4\", \"hepspre5\", \"hepscon1\", \"hepscon2\", \"hepscon3\", \"hepscon4\", \"hepscon5\", \"hepscon6\", \"hepscon8\", \"henohm7\"]#, \"heprinoh\"]\n",
    "\n",
    "    # Original: -1 = blank, 1 = yes, 2 = no\n",
    "    # Adjusted: -1 = no, 0 = blank, 1 = yes\n",
    "    df = df[privacy_colns]\n",
    "    dict_values = {-1:0, 2:0}\n",
    "    df = df.replace(dict_values)\n",
    "    # Var set is the base questions for all subquestions\n",
    "    var_set = set()\n",
    "\n",
    "    # Gets the base question (e.g. hepspre is a base question of hepspre1) string by removing digits of unique column names and append them to set\n",
    "    for col in privacy_colns:\n",
    "        non_digit_q = ''.join(c for c in col if not c.isdigit())\n",
    "        var_set.add(non_digit_q)\n",
    "\n",
    "    # Calculates the sums for each row based on the base question and adds the result as a column to the dataframe\n",
    "    for var in var_set:\n",
    "        cols_to_sum = [col for col in df.columns if var in col]\n",
    "        df[f'{var}_sum'] = df.loc[:, cols_to_sum].sum(axis=1)\n",
    "        \n",
    "    return df\n",
    "def computeAvg(df):\n",
    "    cols_to_avg = [col for col in df.columns if \"sum\" in col]\n",
    "    avg_vals = []\n",
    "    for col in cols_to_avg:\n",
    "        avg = sum(df[col]) / len(df[col])\n",
    "        avg_vals.append(avg)\n",
    "#         display(col + \" average: \" + str(avg))\n",
    "    return avg_vals[:3]"
   ]
  },
  {
   "cell_type": "code",
   "execution_count": 9,
   "metadata": {},
   "outputs": [],
   "source": [
    "df_21y = pd.read_csv(\"nov21-cps.csv\")\n",
    "df_21y = computeSum(df_21y)\n",
    "\n",
    "df_19y = pd.read_csv(\"nov19-cps.csv\")\n",
    "df_19y = computeSum(df_19y)\n",
    "\n",
    "df_17y = pd.read_csv(\"nov17-cps.csv\")\n",
    "df_17y = computeSum(df_17y)"
   ]
  },
  {
   "cell_type": "code",
   "execution_count": 10,
   "metadata": {},
   "outputs": [],
   "source": [
    "# separate demo for df_21y\n",
    "df21y_6_to_17 = df_21y[df_21y['prtage'] < 18]\n",
    "df21y_18_to_24 = df_21y.loc[(df_21y['prtage'] > 17) & (df_21y['prtage'] < 24)]\n",
    "df21y_25_to_34 = df_21y.loc[(df_21y['prtage'] > 18) & (df_21y['prtage'] < 35)]\n",
    "df21y_35_to_44 = df_21y.loc[(df_21y['prtage'] > 34) & (df_21y['prtage'] < 45)]\n",
    "df21y_45_to_54 = df_21y.loc[(df_21y['prtage'] > 44) & (df_21y['prtage'] < 55)]\n",
    "df21y_55_to_64 = df_21y.loc[(df_21y['prtage'] > 55) & (df_21y['prtage'] < 65)]\n",
    "df21y_65 = df_21y[df_21y['prtage'] > 64]"
   ]
  },
  {
   "cell_type": "code",
   "execution_count": 11,
   "metadata": {},
   "outputs": [],
   "source": [
    "df21y_6_to_17 = df_21y[df_21y['prtage'] < 18]\n",
    "df21y_18_to_44 = df_21y.loc[(df_21y['prtage'] > 17) & (df_21y['prtage'] < 45)]\n",
    "df21y_45_to_64 = df_21y.loc[(df_21y['prtage'] > 44) & (df_21y['prtage'] < 65)]\n",
    "df21y_65 = df_21y[df_21y['prtage'] > 64]"
   ]
  },
  {
   "cell_type": "code",
   "execution_count": 12,
   "metadata": {},
   "outputs": [],
   "source": [
    "# separate demo for df_19y\n",
    "df19y_6_to_17 = df_19y[df_19y['prtage'] < 18]\n",
    "df19y_18_to_24 = df_19y.loc[(df_19y['prtage'] > 17) & (df_19y['prtage'] < 24)]\n",
    "df19y_25_to_34 = df_19y.loc[(df_19y['prtage'] > 18) & (df_19y['prtage'] < 35)]\n",
    "df19y_35_to_44 = df_19y.loc[(df_19y['prtage'] > 34) & (df_19y['prtage'] < 45)]\n",
    "df19y_45_to_54 = df_19y.loc[(df_19y['prtage'] > 44) & (df_19y['prtage'] < 55)]\n",
    "df19y_55_to_64 = df_19y.loc[(df_19y['prtage'] > 55) & (df_19y['prtage'] < 65)]\n",
    "df19y_65 = df_19y[df_19y['prtage'] > 64]"
   ]
  },
  {
   "cell_type": "code",
   "execution_count": 14,
   "metadata": {},
   "outputs": [],
   "source": [
    "df19y_6_to_17 = df_19y[df_19y['prtage'] < 18]\n",
    "df19y_18_to_44 = df_19y.loc[(df_19y['prtage'] > 17) & (df_19y['prtage'] < 45)]\n",
    "df19y_45_to_64 = df_19y.loc[(df_19y['prtage'] > 44) & (df_19y['prtage'] < 65)]\n",
    "df19y_65 = df_19y[df_19y['prtage'] > 64]"
   ]
  },
  {
   "cell_type": "code",
   "execution_count": 15,
   "metadata": {},
   "outputs": [],
   "source": [
    "# separate demo for df_17y\n",
    "df17y_6_to_17 = df_17y[df_17y['prtage'] < 18]\n",
    "df17y_18_to_24 = df_17y.loc[(df_17y['prtage'] > 17) & (df_17y['prtage'] < 24)]\n",
    "df17y_25_to_34 = df_17y.loc[(df_17y['prtage'] > 18) & (df_17y['prtage'] < 35)]\n",
    "df17y_35_to_44 = df_17y.loc[(df_17y['prtage'] > 34) & (df_17y['prtage'] < 45)]\n",
    "df17y_45_to_54 = df_17y.loc[(df_17y['prtage'] > 44) & (df_17y['prtage'] < 55)]\n",
    "df17y_55_to_64 = df_17y.loc[(df_17y['prtage'] > 55) & (df_17y['prtage'] < 65)]\n",
    "df17y_65 = df_17y[df_17y['prtage'] > 64]"
   ]
  },
  {
   "cell_type": "code",
   "execution_count": 25,
   "metadata": {},
   "outputs": [],
   "source": [
    "df17y_6_to_17 = df_17y[df_17y['prtage'] < 18]\n",
    "df17y_18_to_44 = df_17y.loc[(df_17y['prtage'] > 17) & (df_17y['prtage'] < 45)]\n",
    "df17y_45_to_64 = df_17y.loc[(df_17y['prtage'] > 44) & (df_17y['prtage'] < 65)]\n",
    "df17y_65 = df_17y[df_17y['prtage'] > 64]"
   ]
  },
  {
   "cell_type": "code",
   "execution_count": 26,
   "metadata": {
    "scrolled": true
   },
   "outputs": [
    {
     "data": {
      "text/plain": [
       "<matplotlib.legend.Legend at 0x7efea5f4dee0>"
      ]
     },
     "execution_count": 26,
     "metadata": {},
     "output_type": "execute_result"
    },
    {
     "data": {
      "image/png": "[encoded data removed]",
      "text/plain": [
       "<Figure size 432x288 with 1 Axes>"
      ]
     },
     "metadata": {
      "needs_background": "light"
     },
     "output_type": "display_data"
    }
   ],
   "source": [
    "#visualization skeleton\n",
    "\n",
    "X_values = ['Question 1', 'Question 2', 'Question 3']\n",
    "x_sep_val = np.arange(3)\n",
    "x_s_val = [tick + 0.25 for tick in x_sep_val]\n",
    "\n",
    "plt.bar(x_sep_val, computeAvg(df17y_6_to_17), 0.25, label = '2017')\n",
    "plt.bar(x_sep_val + 0.25, computeAvg(df19y_6_to_17), 0.25, label = '2019')\n",
    "plt.bar(x_sep_val + 0.5, computeAvg(df21y_6_to_17), 0.25, label = '2021')\n",
    "\n",
    "plt.xticks(x_s_val, X_values)\n",
    "plt.ylabel(\"Average score\")\n",
    "plt.title(\"Average score for respondants under the age of 18\")\n",
    "plt.legend()"
   ]
  },
  {
   "cell_type": "code",
   "execution_count": 27,
   "metadata": {},
   "outputs": [
    {
     "data": {
      "text/plain": [
       "<matplotlib.legend.Legend at 0x7efea5aa4b80>"
      ]
     },
     "execution_count": 27,
     "metadata": {},
     "output_type": "execute_result"
    },
    {
     "data": {
      "image/png": "[encoded data removed]",
      "text/plain": [
       "<Figure size 432x288 with 1 Axes>"
      ]
     },
     "metadata": {
      "needs_background": "light"
     },
     "output_type": "display_data"
    }
   ],
   "source": [
    "#visualization skeleton\n",
    "\n",
    "X_values = ['Question 1', 'Question 2', 'Question 3']\n",
    "x_sep_val = np.arange(3)\n",
    "x_s_val = [tick + 0.25 for tick in x_sep_val]\n",
    "\n",
    "plt.bar(x_sep_val, computeAvg(df17y_18_to_44), 0.25, label = '2017')\n",
    "plt.bar(x_sep_val + 0.25, computeAvg(df19y_18_to_44), 0.25, label = '2019')\n",
    "plt.bar(x_sep_val + 0.5, computeAvg(df21y_18_to_44), 0.25, label = '2021')\n",
    "\n",
    "plt.xticks(x_s_val, X_values)\n",
    "plt.ylabel(\"Average score\")\n",
    "plt.title(\"Average score for respondants between the ages of 18 and 44\")\n",
    "plt.legend()"
   ]
  },
  {
   "cell_type": "code",
   "execution_count": 28,
   "metadata": {},
   "outputs": [
    {
     "data": {
      "text/plain": [
       "<matplotlib.legend.Legend at 0x7efea40cb3d0>"
      ]
     },
     "execution_count": 28,
     "metadata": {},
     "output_type": "execute_result"
    },
    {
     "data": {
      "image/png": "[encoded data removed]",
      "text/plain": [
       "<Figure size 432x288 with 1 Axes>"
      ]
     },
     "metadata": {
      "needs_background": "light"
     },
     "output_type": "display_data"
    }
   ],
   "source": [
    "#visualization skeleton\n",
    "\n",
    "X_values = ['Question 1', 'Question 2', 'Question 3']\n",
    "x_sep_val = np.arange(3)\n",
    "x_s_val = [tick + 0.25 for tick in x_sep_val]\n",
    "\n",
    "plt.bar(x_sep_val, computeAvg(df17y_18_to_24), 0.25, label = '2017')\n",
    "plt.bar(x_sep_val + 0.25, computeAvg(df19y_18_to_24), 0.25, label = '2019')\n",
    "plt.bar(x_sep_val + 0.5, computeAvg(df21y_18_to_24), 0.25, label = '2021')\n",
    "\n",
    "plt.xticks(x_s_val, X_values)\n",
    "plt.ylabel(\"Average score\")\n",
    "plt.title(\"Average score for respondants between the ages of 18 and 24\")\n",
    "plt.legend()"
   ]
  },
  {
   "cell_type": "code",
   "execution_count": 29,
   "metadata": {},
   "outputs": [
    {
     "data": {
      "text/plain": [
       "<matplotlib.legend.Legend at 0x7efea1a8b580>"
      ]
     },
     "execution_count": 29,
     "metadata": {},
     "output_type": "execute_result"
    },
    {
     "data": {
      "image/png": "[encoded data removed]",
      "text/plain": [
       "<Figure size 432x288 with 1 Axes>"
      ]
     },
     "metadata": {
      "needs_background": "light"
     },
     "output_type": "display_data"
    }
   ],
   "source": [
    "#visualization skeleton\n",
    "\n",
    "X_values = ['Question 1', 'Question 2', 'Question 3']\n",
    "x_sep_val = np.arange(3)\n",
    "x_s_val = [tick + 0.25 for tick in x_sep_val]\n",
    "\n",
    "plt.bar(x_sep_val, computeAvg(df17y_25_to_34), 0.25, label = '2017')\n",
    "plt.bar(x_sep_val + 0.25, computeAvg(df19y_25_to_34), 0.25, label = '2019')\n",
    "plt.bar(x_sep_val + 0.5, computeAvg(df21y_25_to_34), 0.25, label = '2021')\n",
    "\n",
    "plt.xticks(x_s_val, X_values)\n",
    "plt.ylabel(\"Average score\")\n",
    "plt.title(\"Average score for respondants between the ages of 25 and 34\")\n",
    "plt.legend()"
   ]
  },
  {
   "cell_type": "code",
   "execution_count": 30,
   "metadata": {},
   "outputs": [
    {
     "data": {
      "text/plain": [
       "<matplotlib.legend.Legend at 0x7efea5c645e0>"
      ]
     },
     "execution_count": 30,
     "metadata": {},
     "output_type": "execute_result"
    },
    {
     "data": {
      "image/png": "[encoded data removed]",
      "text/plain": [
       "<Figure size 432x288 with 1 Axes>"
      ]
     },
     "metadata": {
      "needs_background": "light"
     },
     "output_type": "display_data"
    }
   ],
   "source": [
    "#visualization skeleton\n",
    "\n",
    "X_values = ['Question 1', 'Question 2', 'Question 3']\n",
    "x_sep_val = np.arange(3)\n",
    "x_s_val = [tick + 0.25 for tick in x_sep_val]\n",
    "\n",
    "plt.bar(x_sep_val, computeAvg(df17y_35_to_44), 0.25, label = '2017')\n",
    "plt.bar(x_sep_val + 0.25, computeAvg(df19y_35_to_44), 0.25, label = '2019')\n",
    "plt.bar(x_sep_val + 0.5, computeAvg(df21y_35_to_44), 0.25, label = '2021')\n",
    "\n",
    "plt.xticks(x_s_val, X_values)\n",
    "plt.ylabel(\"Average score\")\n",
    "plt.title(\"Average score for respondants between the ages of 35 and 44\")\n",
    "plt.legend()"
   ]
  },
  {
   "cell_type": "code",
   "execution_count": 31,
   "metadata": {},
   "outputs": [
    {
     "data": {
      "text/plain": [
       "<matplotlib.legend.Legend at 0x7efea4de9940>"
      ]
     },
     "execution_count": 31,
     "metadata": {},
     "output_type": "execute_result"
    },
    {
     "data": {
      "image/png": "[encoded data removed]",
      "text/plain": [
       "<Figure size 432x288 with 1 Axes>"
      ]
     },
     "metadata": {
      "needs_background": "light"
     },
     "output_type": "display_data"
    }
   ],
   "source": [
    "#visualization skeleton\n",
    "\n",
    "X_values = ['Question 1', 'Question 2', 'Question 3']\n",
    "x_sep_val = np.arange(3)\n",
    "x_s_val = [tick + 0.25 for tick in x_sep_val]\n",
    "\n",
    "plt.bar(x_sep_val, computeAvg(df17y_45_to_64), 0.25, label = '2017')\n",
    "plt.bar(x_sep_val + 0.25, computeAvg(df19y_45_to_64), 0.25, label = '2019')\n",
    "plt.bar(x_sep_val + 0.5, computeAvg(df21y_45_to_64), 0.25, label = '2021')\n",
    "\n",
    "plt.xticks(x_s_val, X_values)\n",
    "plt.ylabel(\"Average score\")\n",
    "plt.title(\"Average score for respondants between the ages of 45 and 64\")\n",
    "plt.legend()"
   ]
  },
  {
   "cell_type": "code",
   "execution_count": 32,
   "metadata": {},
   "outputs": [
    {
     "data": {
      "text/plain": [
       "<matplotlib.legend.Legend at 0x7efea4ad0a00>"
      ]
     },
     "execution_count": 32,
     "metadata": {},
     "output_type": "execute_result"
    },
    {
     "data": {
      "image/png": "[encoded data removed]",
      "text/plain": [
       "<Figure size 432x288 with 1 Axes>"
      ]
     },
     "metadata": {
      "needs_background": "light"
     },
     "output_type": "display_data"
    }
   ],
   "source": [
    "#visualization skeleton\n",
    "\n",
    "X_values = ['Question 1', 'Question 2', 'Question 3']\n",
    "x_sep_val = np.arange(3)\n",
    "x_s_val = [tick + 0.25 for tick in x_sep_val]\n",
    "\n",
    "plt.bar(x_sep_val, computeAvg(df17y_45_to_54), 0.25, label = '2017')\n",
    "plt.bar(x_sep_val + 0.25, computeAvg(df19y_45_to_54), 0.25, label = '2019')\n",
    "plt.bar(x_sep_val + 0.5, computeAvg(df21y_45_to_54), 0.25, label = '2021')\n",
    "\n",
    "plt.xticks(x_s_val, X_values)\n",
    "plt.ylabel(\"Average score\")\n",
    "plt.title(\"Average score for respondants between the ages of 45 and 54\")\n",
    "plt.legend()"
   ]
  },
  {
   "cell_type": "code",
   "execution_count": 33,
   "metadata": {},
   "outputs": [
    {
     "data": {
      "text/plain": [
       "<matplotlib.legend.Legend at 0x7efea5b69580>"
      ]
     },
     "execution_count": 33,
     "metadata": {},
     "output_type": "execute_result"
    },
    {
     "data": {
      "image/png": "[encoded data removed]",
      "text/plain": [
       "<Figure size 432x288 with 1 Axes>"
      ]
     },
     "metadata": {
      "needs_background": "light"
     },
     "output_type": "display_data"
    }
   ],
   "source": [
    "#visualization skeleton\n",
    "\n",
    "X_values = ['Question 1', 'Question 2', 'Question 3']\n",
    "x_sep_val = np.arange(3)\n",
    "x_s_val = [tick + 0.25 for tick in x_sep_val]\n",
    "\n",
    "plt.bar(x_sep_val, computeAvg(df17y_65), 0.25, label = '2017')\n",
    "plt.bar(x_sep_val + 0.25, computeAvg(df19y_65), 0.25, label = '2019')\n",
    "plt.bar(x_sep_val + 0.5, computeAvg(df21y_65), 0.25, label = '2021')\n",
    "\n",
    "plt.xticks(x_s_val, X_values)\n",
    "plt.ylabel(\"Average score\")\n",
    "plt.title(\"Average score for respondants over the age of 64\")\n",
    "plt.legend()"
   ]
  },
  {
   "cell_type": "code",
   "execution_count": null,
   "metadata": {},
   "outputs": [],
   "source": []
  },
  {
   "cell_type": "code",
   "execution_count": null,
   "metadata": {},
   "outputs": [],
   "source": []
  },
  {
   "cell_type": "code",
   "execution_count": null,
   "metadata": {},
   "outputs": [],
   "source": []
  }
 ],
 "metadata": {
  "kernelspec": {
   "display_name": "Python 3",
   "language": "python",
   "name": "python3"
  },
  "language_info": {
   "codemirror_mode": {
    "name": "ipython",
    "version": 3
   },
   "file_extension": ".py",
   "mimetype": "text/x-python",
   "name": "python",
   "nbconvert_exporter": "python",
   "pygments_lexer": "ipython3",
   "version": "3.8.10"
  },
  "vscode": {
   "interpreter": {
    "hash": "26de051ba29f2982a8de78e945f0abaf191376122a1563185a90213a26c5da77"
   }
  }
 },
 "nbformat": 4,
 "nbformat_minor": 2
}
